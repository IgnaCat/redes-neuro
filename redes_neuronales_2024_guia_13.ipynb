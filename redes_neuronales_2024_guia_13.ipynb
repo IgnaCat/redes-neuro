{
  "cells": [
    {
      "cell_type": "markdown",
      "metadata": {
        "id": "NRYEofSD0xoF"
      },
      "source": [
        "# PyTorch: Autoencoder convolucional Fashion-MNIST\n",
        "\n",
        "## Refs.\n",
        "\n",
        "* https://pytorch.org/tutorials/beginner/basics/optimization_tutorial.html\n",
        "\n",
        "* https://github.com/zalandoresearch/fashion-mnist\n",
        "\n",
        "* https://github.com/pranay414/Fashion-MNIST-Pytorch/blob/master/fashion_mnist.ipynb\n",
        "\n",
        "## **Ejercicio 1)** Importando librerías\n",
        "\n",
        "**0)** De ser necesario, **instale PyTorch** escribiendo\n",
        "\n",
        "    !pip3 install torch torchvision torchaudio torchviz\n",
        "\n",
        "**1)** Importe las librerías estandard de Python: `os`, `datetime`, `collections` y `pickle`.\n",
        "\n",
        "**2)** Importe las siguientes librerías third party de Python: `matplotlib.pyplot`, `numpy`, `scipy`, `sklearn`, `pandas`, `dill` y `json`.\n",
        "\n",
        "**3)** Importe las librerias necesarias de **PyTorch**: `torch` y `torchvision`.\n",
        "\n",
        "**4)** Importe la librería: `google.colab`."
      ]
    },
    {
      "cell_type": "code",
      "execution_count": 66,
      "metadata": {
        "id": "Jg3VSqHCGSub"
      },
      "outputs": [],
      "source": [
        "# 1.0)\n",
        "#!pip3 install torch torchvision torchaudio torchviz"
      ]
    },
    {
      "cell_type": "code",
      "execution_count": 67,
      "metadata": {
        "id": "I8N3D_nU1_oT"
      },
      "outputs": [],
      "source": [
        "# 1.1)\n",
        "import os\n",
        "import pickle\n",
        "import datetime\n",
        "from collections import defaultdict"
      ]
    },
    {
      "cell_type": "code",
      "execution_count": 68,
      "metadata": {
        "id": "QsfFvPYhkCGl"
      },
      "outputs": [],
      "source": [
        "# 1.2)\n",
        "import matplotlib.pyplot as plt\n",
        "from matplotlib import cm\n",
        "import numpy as np\n",
        "import scipy as sp\n",
        "import scipy.linalg as linalg\n",
        "import sklearn as skl\n",
        "import pandas as pd\n",
        "#import dill\n",
        "import json"
      ]
    },
    {
      "cell_type": "code",
      "execution_count": 69,
      "metadata": {
        "id": "Uot5sVNnkCNa"
      },
      "outputs": [],
      "source": [
        "# 1.3)\n",
        "\n",
        "import torch\n",
        "import torch.optim as optim\n",
        "from torch import nn\n",
        "from torch.nn import functional as F\n",
        "from torch.utils.data import Dataset, DataLoader, Subset, random_split\n",
        "from torchvision import datasets\n",
        "from torchvision import transforms\n",
        "from torchvision.io import read_image\n",
        "from torchvision.transforms import ToTensor, Lambda, Compose\n",
        "from torchsummary import summary\n",
        "#from torchviz import make_dot"
      ]
    },
    {
      "cell_type": "code",
      "execution_count": 70,
      "metadata": {
        "id": "rVCiYt-1kCUi"
      },
      "outputs": [],
      "source": [
        "# # 1.4)\n",
        "# import google.colab\n",
        "# from google.colab import files"
      ]
    },
    {
      "cell_type": "code",
      "execution_count": 71,
      "metadata": {
        "id": "oUFvWw_kr7Bt"
      },
      "outputs": [
        {
          "data": {
            "text/plain": [
              "'cpu'"
            ]
          },
          "execution_count": 71,
          "metadata": {},
          "output_type": "execute_result"
        }
      ],
      "source": [
        "device = 'cuda' if torch.cuda.is_available() else 'cpu'\n",
        "device"
      ]
    },
    {
      "cell_type": "markdown",
      "metadata": {
        "id": "NcaGEHAd10sb"
      },
      "source": [
        "## **Ejercicio 2)**\n",
        "\n",
        "Bajando y Jugando con el dataset **Fashion-MNIST**.\n",
        "\n",
        "**1)** Baje y transforme los conjuntos de entrenamiento y testeo de FashionMNIST.\n",
        "\n",
        "**2)** Grafique un mosaico de 3x3 imagenes de FashionMNIST, cada una titulada con su respectiva clasificación"
      ]
    },
    {
      "cell_type": "code",
      "execution_count": 72,
      "metadata": {
        "id": "NUoQ9bnwaZ7O"
      },
      "outputs": [],
      "source": [
        "# 2.1)\n",
        "# Define a transform to normalize the data\n",
        "transform = transforms.Compose([transforms.ToTensor(),transforms.Normalize((0.5,), (0.5,))])\n",
        "\n",
        "# Download and load the training data\n",
        "train_set_orig = datasets.FashionMNIST('MNIST_data/', download = True, train = True,  transform = transform)\n",
        "valid_set_orig = datasets.FashionMNIST('MNIST_data/', download = True, train = False, transform = transform)"
      ]
    },
    {
      "cell_type": "code",
      "execution_count": 73,
      "metadata": {
        "id": "-wJdl9mKx5EC"
      },
      "outputs": [
        {
          "data": {
            "image/png": "[encoded data removed]",
            "text/plain": [
              "<Figure size 640x480 with 9 Axes>"
            ]
          },
          "metadata": {},
          "output_type": "display_data"
        }
      ],
      "source": [
        "# 2.2)\n",
        "\n",
        "labels_names = ['T-shirt/top', 'Trouser', 'Pullover', 'Dress', 'Coat',\n",
        "        'Sandal', 'Shirt', 'Sneaker', 'Bag', 'Ankle Boot']\n",
        "\n",
        "figure = plt.figure()\n",
        "cols,rows = 3,3\n",
        "for i in range(1,cols*rows+1):\n",
        "    j = torch.randint(len(train_set_orig),size=(1,)).item() # Los números aleatorios tambien se pueden generar desde pytorch. Util para trabajar en la GPU.\n",
        "    image,label = train_set_orig[j]\n",
        "    figure.add_subplot(rows,cols,i)\n",
        "    plt.title(labels_names[label])\n",
        "    plt.axis(\"off\")\n",
        "    plt.imshow(image.squeeze(),cmap=\"Greys_r\")\n",
        "plt.show()"
      ]
    },
    {
      "cell_type": "markdown",
      "metadata": {
        "id": "1OWYnfxWz8RS"
      },
      "source": [
        "## Ejercicio 3) Creando un `DataSet` personalizado.\n",
        "\n",
        "**1)** Con el fin de implementar un autoencoder, cree una clase derivada de la clase `DataSet` (llámela, por ejemplo `CustomDataset`) que, en vez de retornal el label asociado a cada imagen de `FashionMNIST`, retorne la imagen misma.\n",
        "\n",
        "**2)** Utilice dicha clase para transformar los conjuntos de entrenamiento y testeo de `FashionMNIST` pensados para clasificación, a correspondientes conjuntos pensados para entrenar un autoencoder.\n",
        "Para ello, defina una clase `CustomDataset` que deriva de la clase `Dataset`, cuyo método `__getitem__(self,i)` retorne el pair `input,output` donde tanto `input` cómo `output` son iguales a la $i$-ésima imagen del dataset."
      ]
    },
    {
      "cell_type": "code",
      "execution_count": 74,
      "metadata": {
        "id": "sPjO1_Av1f87"
      },
      "outputs": [
        {
          "name": "stdout",
          "output_type": "stream",
          "text": [
            "Tamaño del dataset de entrenamiento: 60000\n",
            "Tamaño del dataset de validación: 10000\n",
            "Shape del input: torch.Size([1, 28, 28]), Shape del output: torch.Size([1, 28, 28])\n"
          ]
        }
      ],
      "source": [
        "# 3.1)\n",
        "class CustomDataset(Dataset):\n",
        "    def __init__(self, dataset):\n",
        "        \"\"\"\n",
        "        Inicializa el dataset personalizado.\n",
        "        Args:\n",
        "            dataset: Un dataset original de torchvision como FashionMNIST.\n",
        "        \"\"\"\n",
        "        self.dataset = dataset\n",
        "\n",
        "    def __len__(self):\n",
        "        \"\"\"\n",
        "        Devuelve el tamaño del dataset.\n",
        "        \"\"\"\n",
        "        return len(self.dataset)\n",
        "\n",
        "    def __getitem__(self, i):\n",
        "        \"\"\"\n",
        "        Devuelve el par (input, output), donde input y output son la misma imagen.\n",
        "        Args:\n",
        "            i: Índice de la imagen a obtener.\n",
        "        Returns:\n",
        "            tuple: (input, output) siendo ambos iguales.\n",
        "        \"\"\"\n",
        "        image, _ = self.dataset[i]  # Ignoramos el label original\n",
        "        return image, image\n",
        "\n",
        "# Convertir los datasets originales a CustomDataset\n",
        "train_set = CustomDataset(train_set_orig)\n",
        "valid_set = CustomDataset(valid_set_orig)\n",
        "\n",
        "# Verificar el funcionamiento del CustomDataset\n",
        "print(f\"Tamaño del dataset de entrenamiento: {len(train_set)}\")\n",
        "print(f\"Tamaño del dataset de validación: {len(valid_set)}\")\n",
        "\n",
        "# Obtener un ejemplo y verificar que input y output son iguales\n",
        "example_input, example_output = train_set[0]\n",
        "print(f\"Shape del input: {example_input.shape}, Shape del output: {example_output.shape}\")"
      ]
    },
    {
      "cell_type": "markdown",
      "metadata": {
        "id": "REToccG127zI"
      },
      "source": [
        "## Ejercicio 4) Red Neuronal Autoencoder Convolucional\n",
        "\n",
        "**1)** Defina y cree una red neuronal *autoenconder convolucional* constituida por las siguientes capas:\n",
        "\n",
        "1. Una capa convolucional 2D constituida por:\n",
        "\n",
        "* Una capa `Conv2d` (ver https://pytorch.org/docs/stable/generated/torch.nn.Conv2d.html) que deberá mapear $1$ canal de entradas de dimensiones $(28,28)$ a $16$ canales de de salida de dimensiones $(26,26)$. Para ello utilice un kernel de dimensiones $(3,3)$ y el resto de los parámetros en sus valores por defecto.\n",
        "* Una capa `ReLU`.\n",
        "* Una capa `Dropout`.\n",
        "* Una capa `MaxPool` (ver https://pytorch.org/docs/stable/generated/torch.nn.MaxPool2d.html) con un kernel de dimensiones $(2,2)$, de manera que mapeará entradas de dimensiones $(26,26)$ a salidas de dimensiones $(13,13)$.\n",
        "\n",
        "2. Una capa lineal constituida por:\n",
        "\n",
        "* Una capa `Flatten` que mapea una entrada de $16$ canales de dimensiones $(13,13)$ a un vector de dimensión $16\\times 13\\times 13$.\n",
        "* Una capa `Linear` que mapea un vector de dimensión $16\\times 13\\times 13$ a un vector de dimensión $n$.\n",
        "* Una capa `ReLU`.\n",
        "* Una capa `Dropout`.\n",
        "\n",
        "3. Una capa capa convolucional 2D transpuesta, constituida por:\n",
        "\n",
        "* una capa `ConvTranspose2d` (ver https://pytorch.org/docs/stable/generated/torch.nn.ConvTranspose2d.html) que mapea $16$ canales de dimensiones $(13,13)$ a $1$ canal de dimensiones $(28,28)$. Para ello, utilice un kernel de dimensiones $(6,6)$ y un stride de dimensiones $(2,2)$, dejando el resto de los parámetros en sus valores por defecto, i.e. padding de $(1,1)$ y out_padding de $(0,0)$.\n",
        "\n",
        "* Una capa `Sigmoid`.\n",
        "\n",
        "**3)** Grafique, a modo de comparación, unas pocas imagenes a predecir vs las correspondientes imagenes predichas utilizando el modelo sin entrenar y dropout $p=0.2$."
      ]
    },
    {
      "cell_type": "code",
      "execution_count": 75,
      "metadata": {
        "id": "qSJqCozXCEq1"
      },
      "outputs": [],
      "source": [
        "# 4.1)\n",
        "class ConvAutoencoder(nn.Module):\n",
        "    def __init__(self, n, p=0.2):\n",
        "        super(ConvAutoencoder, self).__init__()\n",
        "\n",
        "        # Encoder\n",
        "        self.encoder = nn.Sequential(\n",
        "            nn.Conv2d(1, 16, kernel_size=3),\n",
        "            nn.ReLU(),\n",
        "            nn.Dropout(p),\n",
        "            nn.MaxPool2d(kernel_size=2, stride=2)\n",
        "        )\n",
        "\n",
        "        self.flatten = nn.Flatten()\n",
        "        self.linear = nn.Sequential(\n",
        "            nn.Linear(16 * 13 * 13, n),\n",
        "            nn.ReLU(),\n",
        "            nn.Dropout(p)\n",
        "        )\n",
        "\n",
        "        # Decoder\n",
        "        self.decoder = nn.Sequential(\n",
        "            nn.Linear(n, 16 * 13 * 13),\n",
        "            nn.ReLU(),\n",
        "            nn.Unflatten(1, (16, 13, 13)),\n",
        "            nn.ConvTranspose2d(16, 1, kernel_size=6, stride=2, padding=1, output_padding=0),\n",
        "            nn.Sigmoid()\n",
        "        )\n",
        "\n",
        "    def forward(self, x):\n",
        "        x = self.encoder(x)\n",
        "        x = self.flatten(x)\n",
        "        x = self.linear(x)\n",
        "        x = self.decoder(x)\n",
        "        return x\n"
      ]
    },
    {
      "cell_type": "code",
      "execution_count": 76,
      "metadata": {},
      "outputs": [
        {
          "name": "stdout",
          "output_type": "stream",
          "text": [
            "ConvAutoencoder(\n",
            "  (encoder): Sequential(\n",
            "    (0): Conv2d(1, 16, kernel_size=(3, 3), stride=(1, 1))\n",
            "    (1): ReLU()\n",
            "    (2): Dropout(p=0.2, inplace=False)\n",
            "    (3): MaxPool2d(kernel_size=2, stride=2, padding=0, dilation=1, ceil_mode=False)\n",
            "  )\n",
            "  (flatten): Flatten(start_dim=1, end_dim=-1)\n",
            "  (linear): Sequential(\n",
            "    (0): Linear(in_features=2704, out_features=64, bias=True)\n",
            "    (1): ReLU()\n",
            "    (2): Dropout(p=0.2, inplace=False)\n",
            "  )\n",
            "  (decoder): Sequential(\n",
            "    (0): Linear(in_features=64, out_features=2704, bias=True)\n",
            "    (1): ReLU()\n",
            "    (2): Unflatten(dim=1, unflattened_size=(16, 13, 13))\n",
            "    (3): ConvTranspose2d(16, 1, kernel_size=(6, 6), stride=(2, 2), padding=(1, 1))\n",
            "    (4): Sigmoid()\n",
            "  )\n",
            ")\n",
            "Input size: torch.Size([1, 1, 28, 28])\n",
            "Output size: torch.Size([1, 1, 28, 28])\n"
          ]
        }
      ],
      "source": [
        "# Instanciar el modelo\n",
        "n = 64  # Dimensión del vector latente\n",
        "model = ConvAutoencoder(n, p=0.2).to(device)\n",
        "\n",
        "# Mostrar la arquitectura del modelo\n",
        "print(model)\n",
        "#summary(model, (1,28,28))\n",
        "\n",
        "# Prueba\n",
        "image = torch.randn(1,1,28,28) # Batch, canal, size\n",
        "output = model(image)\n",
        "print(f'Input size: {image.shape}')\n",
        "print(f'Output size: {output.shape}')"
      ]
    },
    {
      "cell_type": "code",
      "execution_count": 77,
      "metadata": {},
      "outputs": [
        {
          "data": {
            "image/png": "[encoded data removed]",
            "text/plain": [
              "<Figure size 640x480 with 2 Axes>"
            ]
          },
          "metadata": {},
          "output_type": "display_data"
        }
      ],
      "source": [
        "# Graficar imágenes originales y reconstruidas (sin entrenar)\n",
        "figure, axes = plt.subplots(1, 2)\n",
        "example_input = example_input.unsqueeze(0).to(device)  # Añadir batch dimension\n",
        "with torch.no_grad():\n",
        "    reconstructed = model(example_input).cpu()\n",
        "\n",
        "axes[0].imshow(example_input.squeeze().cpu(), cmap=\"Greys_r\")\n",
        "axes[0].set_title(\"Original\")\n",
        "axes[0].axis(\"off\")\n",
        "\n",
        "axes[1].imshow(reconstructed.squeeze(), cmap=\"Greys_r\")\n",
        "axes[1].set_title(\"Predicción\")\n",
        "axes[1].axis(\"off\")\n",
        "\n",
        "plt.show()"
      ]
    },
    {
      "cell_type": "markdown",
      "metadata": {},
      "source": [
        "Datos sin entrenar, la predicción es solo ruido"
      ]
    },
    {
      "cell_type": "markdown",
      "metadata": {
        "id": "A9uINlg69OTw"
      },
      "source": [
        "## Ejercicio 5) Entrenando el modelo\n",
        "\n",
        "**1)** Implemente, en una función, un loop de entrenamiento que recorra los batchs (lotes).\n",
        "\n",
        "**2)** Implemente, en una función, un loop de prueba o validación que recorra los batchs.\n",
        "\n",
        "**3)** Inicialize dos `DataLoader`s llamados `train_loader` y `valid_loader` que estén definidos sobre  el `train_set` (conjunto de entranmiento) y el `valid_set` (conjunto de prueba) de Fashion-MNIST, respectivamente, y que usen batchs de 100 ejemplos.\n",
        "\n",
        "**4)** Cree una función de pérdida usando el **Error Cuadrático Medio**.\n",
        "\n",
        "**5)** Cree un optimizador con un learning rate igual a $10^{-3}$.\n",
        "Pruebe con **ADAM**.\n",
        "\n",
        "**6)** Cree una instancia del modelo con dropout $p=0.2$.\n",
        "\n",
        "**7)** Especifique en que dispositivo (`device`) va a trabajar: en una **CPU** o en una **GPU**.\n",
        "\n",
        "**8)** Implemente un loop que itere sobre épocas de entrenamiento y validación, y que guarde en listas correspondientes los siguientes valores del **ECM**:\n",
        "*  promedios (incorrectos) sobre el conjunto de entrenamiento, calculado **durante** el proceso de entrenamiento sobre la época.\n",
        "*  promedios (correctos) sobre el conjunto de entrenamiento, calculados **posteriormente** al proceso de entrenamiento sobre la época.\n",
        "*  promedios (correctos) sobre el conjunto de validación, calculados **posteriormente** al proceso de entrenamiento sobre la época.\n",
        "\n",
        "**IMPORTANTE:** No olvide copiar los batchs al dispositivo de trabajo.\n",
        "\n",
        "**9)** Entrene y valide el modelo.\n",
        "\n",
        "**10)** Use las listas del inciso **8)** para graficar en función de las **épocas de entrenamiento** el **ECM** de **entrenamiento** y **validación**, respectivamente.\n",
        "Discuta y comente, cual es el número óptimo de épocas de entrenamiento?\n",
        "\n",
        "**11)** Grafique, comparativamente, algunas de las imagenes a predecir vs las imagenes predichas por el modelo entrenado.\n",
        "\n",
        "**12)** Repita para otras elecciones de los hiperparámetros tales como, el optimizador (podría ser el **SGD**), el **learning-rate**, el tamaño de los **batchs**, el **dropout**, **capas convolucionales** y **convolucionales traspuestas** de otros tamaños.\n",
        "En particular, pruebe eliminando, adecuadamente, la **capa lineal**.\n",
        "Que valores de estos hiperparámetros considera los más convenientes? Porqué?"
      ]
    },
    {
      "cell_type": "code",
      "execution_count": 78,
      "metadata": {
        "id": "hyuXv-0x29Xw"
      },
      "outputs": [],
      "source": [
        "# 5.1)\n",
        "def train_model(dataloader, model, loss_fn, optimizer, verbose=True):\n",
        "    num_batches = len(dataloader)\n",
        "    num_samples = len(dataloader.dataset)\n",
        "\n",
        "    sum_batch_avrg_loss = 0\n",
        "    num_processed_samples = 0\n",
        "\n",
        "    model.train()\n",
        "    model = model.to(device)\n",
        "    for batch, (X, y) in enumerate(dataloader):\n",
        "        X, y = X.to(device), y.to(device)\n",
        "        batch_size = len(X)\n",
        "        num_processed_samples += batch_size\n",
        "\n",
        "        pred = model(X)\n",
        "        loss = loss_fn(pred, y)\n",
        "        \n",
        "        optimizer.zero_grad()\n",
        "        loss.backward()\n",
        "        optimizer.step()\n",
        "\n",
        "        batch_avrg_loss = loss.item()\n",
        "        sum_batch_avrg_loss += batch_avrg_loss\n",
        "\n",
        "        if batch % max(num_batches // 10, 1) == 0 and verbose:\n",
        "            print(f'Batch {batch:>5d} | Loss: {batch_avrg_loss:.6f} | '\n",
        "                  f'Processed: {100 * num_processed_samples / num_samples:.2f}%')\n",
        "\n",
        "    avg_loss = sum_batch_avrg_loss / num_batches\n",
        "    return avg_loss\n",
        "\n",
        "# 5.2)\n",
        "def valid_model(dataloader, model, loss_fn):\n",
        "    num_samples = len(dataloader.dataset)\n",
        "    num_batches = len(dataloader)\n",
        "    sum_batch_avrg_loss = 0\n",
        "\n",
        "    model.eval()\n",
        "    with torch.no_grad():\n",
        "        for X, y in dataloader:\n",
        "            X, y = X.to(device), y.to(device)\n",
        "            pred = model(X)\n",
        "            loss = loss_fn(pred, y)\n",
        "            sum_batch_avrg_loss += loss.item()\n",
        "\n",
        "    avg_loss = sum_batch_avrg_loss / num_batches\n",
        "    print(f'Validation | Avg Loss: {avg_loss:.6f}')\n",
        "    return avg_loss"
      ]
    },
    {
      "cell_type": "code",
      "execution_count": 79,
      "metadata": {},
      "outputs": [
        {
          "name": "stdout",
          "output_type": "stream",
          "text": [
            "num_train_batches:  600\n",
            "num_valid_batches:  100\n"
          ]
        }
      ],
      "source": [
        "# 5.3) Inicializar DataLoaders\n",
        "batch_size = 100\n",
        "train_loader = DataLoader(train_set, batch_size=batch_size, shuffle=True)\n",
        "valid_loader = DataLoader(valid_set, batch_size=batch_size, shuffle=False)\n",
        "\n",
        "num_train_batches = len(train_loader)\n",
        "num_valid_batches = len(valid_loader)\n",
        "print('num_train_batches: ', num_train_batches)\n",
        "print('num_valid_batches: ', num_valid_batches)\n",
        "\n",
        "# 5.4) Función de pérdida (Error Cuadrático Medio)\n",
        "loss_fn = nn.MSELoss()\n",
        "\n",
        "# 5.5) Optimizador ADAM\n",
        "learning_rate = 1e-3\n",
        "optimizer = optim.Adam(model.parameters(), lr=learning_rate, eps=1e-8, weight_decay=0, amsgrad=False)\n",
        "\n",
        "# 5.6) Instanciar el modelo\n",
        "#model = ConvAutoencoder(n=64, p=0.2)\n",
        "\n",
        "# 5.7) Dispositivo\n",
        "device = torch.device('cuda' if torch.cuda.is_available() else 'cpu')\n",
        "model = model.to(device)"
      ]
    },
    {
      "cell_type": "code",
      "execution_count": 80,
      "metadata": {},
      "outputs": [
        {
          "name": "stdout",
          "output_type": "stream",
          "text": [
            "Epoch 1\\n--------------------\n",
            "Batch     0 | Loss: 1.379583 | Processed: 0.17%\n",
            "Batch    60 | Loss: 0.658372 | Processed: 10.17%\n",
            "Batch   120 | Loss: 0.662302 | Processed: 20.17%\n",
            "Batch   180 | Loss: 0.683083 | Processed: 30.17%\n",
            "Batch   240 | Loss: 0.694192 | Processed: 40.17%\n",
            "Batch   300 | Loss: 0.707764 | Processed: 50.17%\n",
            "Batch   360 | Loss: 0.676027 | Processed: 60.17%\n",
            "Batch   420 | Loss: 0.649886 | Processed: 70.17%\n",
            "Batch   480 | Loss: 0.613326 | Processed: 80.17%\n",
            "Batch   540 | Loss: 0.628443 | Processed: 90.17%\n",
            "Validation | Avg Loss: 0.616960\n",
            "Validation | Avg Loss: 0.614394\n",
            "avg_train_loss_incorrecta:  0.6763151569167772\n",
            "avg_train_loss:  0.6169600280125936\n",
            "avg_valid_loss:  0.6143936759233475\n",
            "Epoch 2\\n--------------------\n",
            "Batch     0 | Loss: 0.628977 | Processed: 0.17%\n",
            "Batch    60 | Loss: 0.612140 | Processed: 10.17%\n",
            "Batch   120 | Loss: 0.612917 | Processed: 20.17%\n",
            "Batch   180 | Loss: 0.604674 | Processed: 30.17%\n",
            "Batch   240 | Loss: 0.622260 | Processed: 40.17%\n",
            "Batch   300 | Loss: 0.589988 | Processed: 50.17%\n",
            "Batch   360 | Loss: 0.592908 | Processed: 60.17%\n",
            "Batch   420 | Loss: 0.612458 | Processed: 70.17%\n",
            "Batch   480 | Loss: 0.608856 | Processed: 80.17%\n",
            "Batch   540 | Loss: 0.626614 | Processed: 90.17%\n",
            "Validation | Avg Loss: 0.605666\n",
            "Validation | Avg Loss: 0.603307\n",
            "avg_train_loss_incorrecta:  0.6139564742644628\n",
            "avg_train_loss:  0.6056661996245384\n",
            "avg_valid_loss:  0.6033066523075103\n",
            "Epoch 3\\n--------------------\n",
            "Batch     0 | Loss: 0.616259 | Processed: 0.17%\n",
            "Batch    60 | Loss: 0.613750 | Processed: 10.17%\n",
            "Batch   120 | Loss: 0.628988 | Processed: 20.17%\n",
            "Batch   180 | Loss: 0.602707 | Processed: 30.17%\n",
            "Batch   240 | Loss: 0.619012 | Processed: 40.17%\n",
            "Batch   300 | Loss: 0.634148 | Processed: 50.17%\n",
            "Batch   360 | Loss: 0.624107 | Processed: 60.17%\n",
            "Batch   420 | Loss: 0.576661 | Processed: 70.17%\n",
            "Batch   480 | Loss: 0.596836 | Processed: 80.17%\n",
            "Batch   540 | Loss: 0.623415 | Processed: 90.17%\n",
            "Validation | Avg Loss: 0.602843\n",
            "Validation | Avg Loss: 0.600482\n",
            "avg_train_loss_incorrecta:  0.6081298098961512\n",
            "avg_train_loss:  0.6028433732191721\n",
            "avg_valid_loss:  0.6004824942350387\n",
            "Epoch 4\\n--------------------\n",
            "Batch     0 | Loss: 0.590880 | Processed: 0.17%\n",
            "Batch    60 | Loss: 0.604971 | Processed: 10.17%\n",
            "Batch   120 | Loss: 0.608487 | Processed: 20.17%\n",
            "Batch   180 | Loss: 0.600623 | Processed: 30.17%\n",
            "Batch   240 | Loss: 0.580235 | Processed: 40.17%\n",
            "Batch   300 | Loss: 0.604585 | Processed: 50.17%\n",
            "Batch   360 | Loss: 0.625415 | Processed: 60.17%\n",
            "Batch   420 | Loss: 0.627633 | Processed: 70.17%\n",
            "Batch   480 | Loss: 0.615835 | Processed: 80.17%\n",
            "Batch   540 | Loss: 0.609220 | Processed: 90.17%\n",
            "Validation | Avg Loss: 0.601443\n",
            "Validation | Avg Loss: 0.599114\n",
            "avg_train_loss_incorrecta:  0.6057321846485137\n",
            "avg_train_loss:  0.6014428866902987\n",
            "avg_valid_loss:  0.5991137075424194\n",
            "Epoch 5\\n--------------------\n",
            "Batch     0 | Loss: 0.615102 | Processed: 0.17%\n",
            "Batch    60 | Loss: 0.595018 | Processed: 10.17%\n",
            "Batch   120 | Loss: 0.597601 | Processed: 20.17%\n",
            "Batch   180 | Loss: 0.595461 | Processed: 30.17%\n",
            "Batch   240 | Loss: 0.591222 | Processed: 40.17%\n",
            "Batch   300 | Loss: 0.608725 | Processed: 50.17%\n",
            "Batch   360 | Loss: 0.606324 | Processed: 60.17%\n",
            "Batch   420 | Loss: 0.606980 | Processed: 70.17%\n",
            "Batch   480 | Loss: 0.584171 | Processed: 80.17%\n",
            "Batch   540 | Loss: 0.597337 | Processed: 90.17%\n",
            "Validation | Avg Loss: 0.600006\n",
            "Validation | Avg Loss: 0.597685\n",
            "avg_train_loss_incorrecta:  0.6043603776892026\n",
            "avg_train_loss:  0.6000062613685926\n",
            "avg_valid_loss:  0.5976852542161941\n",
            "Epoch 6\\n--------------------\n",
            "Batch     0 | Loss: 0.604257 | Processed: 0.17%\n",
            "Batch    60 | Loss: 0.591086 | Processed: 10.17%\n",
            "Batch   120 | Loss: 0.627742 | Processed: 20.17%\n",
            "Batch   180 | Loss: 0.588101 | Processed: 30.17%\n",
            "Batch   240 | Loss: 0.613667 | Processed: 40.17%\n",
            "Batch   300 | Loss: 0.619422 | Processed: 50.17%\n",
            "Batch   360 | Loss: 0.613253 | Processed: 60.17%\n",
            "Batch   420 | Loss: 0.601305 | Processed: 70.17%\n",
            "Batch   480 | Loss: 0.579098 | Processed: 80.17%\n",
            "Batch   540 | Loss: 0.619460 | Processed: 90.17%\n",
            "Validation | Avg Loss: 0.599755\n",
            "Validation | Avg Loss: 0.597483\n",
            "avg_train_loss_incorrecta:  0.6033087312181791\n",
            "avg_train_loss:  0.5997548691431681\n",
            "avg_valid_loss:  0.597482990026474\n",
            "Epoch 7\\n--------------------\n",
            "Batch     0 | Loss: 0.603951 | Processed: 0.17%\n",
            "Batch    60 | Loss: 0.594640 | Processed: 10.17%\n",
            "Batch   120 | Loss: 0.610698 | Processed: 20.17%\n",
            "Batch   180 | Loss: 0.583155 | Processed: 30.17%\n",
            "Batch   240 | Loss: 0.594257 | Processed: 40.17%\n",
            "Batch   300 | Loss: 0.592115 | Processed: 50.17%\n",
            "Batch   360 | Loss: 0.595103 | Processed: 60.17%\n",
            "Batch   420 | Loss: 0.619022 | Processed: 70.17%\n",
            "Batch   480 | Loss: 0.590404 | Processed: 80.17%\n",
            "Batch   540 | Loss: 0.611618 | Processed: 90.17%\n",
            "Validation | Avg Loss: 0.599005\n",
            "Validation | Avg Loss: 0.596731\n",
            "avg_train_loss_incorrecta:  0.6025173958142599\n",
            "avg_train_loss:  0.5990054804086685\n",
            "avg_valid_loss:  0.5967305099964142\n",
            "Epoch 8\\n--------------------\n",
            "Batch     0 | Loss: 0.609711 | Processed: 0.17%\n",
            "Batch    60 | Loss: 0.596918 | Processed: 10.17%\n",
            "Batch   120 | Loss: 0.605393 | Processed: 20.17%\n",
            "Batch   180 | Loss: 0.615470 | Processed: 30.17%\n",
            "Batch   240 | Loss: 0.600430 | Processed: 40.17%\n",
            "Batch   300 | Loss: 0.613348 | Processed: 50.17%\n",
            "Batch   360 | Loss: 0.587807 | Processed: 60.17%\n",
            "Batch   420 | Loss: 0.588420 | Processed: 70.17%\n",
            "Batch   480 | Loss: 0.604951 | Processed: 80.17%\n",
            "Batch   540 | Loss: 0.593731 | Processed: 90.17%\n",
            "Validation | Avg Loss: 0.599003\n",
            "Validation | Avg Loss: 0.596738\n",
            "avg_train_loss_incorrecta:  0.6019794512788454\n",
            "avg_train_loss:  0.5990027583638827\n",
            "avg_valid_loss:  0.5967383658885956\n",
            "Epoch 9\\n--------------------\n",
            "Batch     0 | Loss: 0.607722 | Processed: 0.17%\n",
            "Batch    60 | Loss: 0.596637 | Processed: 10.17%\n",
            "Batch   120 | Loss: 0.593327 | Processed: 20.17%\n",
            "Batch   180 | Loss: 0.605725 | Processed: 30.17%\n",
            "Batch   240 | Loss: 0.601012 | Processed: 40.17%\n",
            "Batch   300 | Loss: 0.577857 | Processed: 50.17%\n",
            "Batch   360 | Loss: 0.588091 | Processed: 60.17%\n",
            "Batch   420 | Loss: 0.593857 | Processed: 70.17%\n",
            "Batch   480 | Loss: 0.601947 | Processed: 80.17%\n",
            "Batch   540 | Loss: 0.601806 | Processed: 90.17%\n",
            "Validation | Avg Loss: 0.598503\n",
            "Validation | Avg Loss: 0.596252\n",
            "avg_train_loss_incorrecta:  0.6015065125624339\n",
            "avg_train_loss:  0.5985034575064977\n",
            "avg_valid_loss:  0.5962517780065536\n",
            "Epoch 10\\n--------------------\n",
            "Batch     0 | Loss: 0.600817 | Processed: 0.17%\n",
            "Batch    60 | Loss: 0.616553 | Processed: 10.17%\n",
            "Batch   120 | Loss: 0.609126 | Processed: 20.17%\n",
            "Batch   180 | Loss: 0.608930 | Processed: 30.17%\n",
            "Batch   240 | Loss: 0.600509 | Processed: 40.17%\n",
            "Batch   300 | Loss: 0.580648 | Processed: 50.17%\n",
            "Batch   360 | Loss: 0.592442 | Processed: 60.17%\n",
            "Batch   420 | Loss: 0.615433 | Processed: 70.17%\n",
            "Batch   480 | Loss: 0.599316 | Processed: 80.17%\n",
            "Batch   540 | Loss: 0.604539 | Processed: 90.17%\n",
            "Validation | Avg Loss: 0.598612\n",
            "Validation | Avg Loss: 0.596381\n",
            "avg_train_loss_incorrecta:  0.60101621200641\n",
            "avg_train_loss:  0.5986119506756464\n",
            "avg_valid_loss:  0.5963814944028855\n",
            "Entranamiento completo\n"
          ]
        }
      ],
      "source": [
        "# 5.6) Entrenamiento del modelo\n",
        "num_epochs = 10\n",
        "list_avg_train_loss_incorrecta = []\n",
        "list_avg_train_loss = []\n",
        "list_avg_valid_loss = []\n",
        "\n",
        "for epoch in range(num_epochs):\n",
        "    print(f'Epoch {epoch+1}\\\\n' + '-' * 20)\n",
        "    avg_train_loss_incorrecta = train_model(train_loader, model, loss_fn, optimizer)\n",
        "    avg_train_loss = valid_model(train_loader, model, loss_fn)\n",
        "    avg_valid_loss = valid_model(valid_loader, model, loss_fn)\n",
        "\n",
        "    list_avg_train_loss_incorrecta.append(avg_train_loss_incorrecta)\n",
        "    list_avg_train_loss.append(avg_train_loss)\n",
        "    list_avg_valid_loss.append(avg_valid_loss)  \n",
        "\n",
        "    print('avg_train_loss_incorrecta: ', avg_train_loss_incorrecta)\n",
        "    print('avg_train_loss: ', avg_train_loss)\n",
        "    print('avg_valid_loss: ', avg_valid_loss)\n",
        "\n",
        "print('Entranamiento completo')"
      ]
    },
    {
      "cell_type": "code",
      "execution_count": 81,
      "metadata": {},
      "outputs": [
        {
          "data": {
            "image/png": "[encoded data removed]",
            "text/plain": [
              "<Figure size 800x500 with 1 Axes>"
            ]
          },
          "metadata": {},
          "output_type": "display_data"
        }
      ],
      "source": [
        "# 5.7) Graficar ECM en función de las épocas\n",
        "plt.figure(figsize=(8,5))\n",
        "plt.plot(list(range(1, len(list_avg_train_loss_incorrecta)+1)), list_avg_train_loss_incorrecta, label='Train Incorrectas')\n",
        "plt.plot(list(range(1, len(list_avg_train_loss)+1)), list_avg_train_loss, label='Train')\n",
        "plt.plot(list(range(1, len(list_avg_valid_loss)+1)), list_avg_valid_loss, label='Valid')\n",
        "plt.xlabel('Epochs')\n",
        "plt.ylabel('Mean Squared Error (MSE)')\n",
        "plt.legend()\n",
        "plt.title('Training and Validation Loss')\n",
        "plt.show()"
      ]
    },
    {
      "cell_type": "code",
      "execution_count": 82,
      "metadata": {},
      "outputs": [
        {
          "data": {
            "image/png": "[encoded data removed]",
            "text/plain": [
              "<Figure size 1000x400 with 10 Axes>"
            ]
          },
          "metadata": {},
          "output_type": "display_data"
        }
      ],
      "source": [
        "# 5.8) Graficar imágenes originales y reconstruidas\n",
        "figure, axes = plt.subplots(2, 5, figsize=(10, 4))\n",
        "model.eval()\n",
        "with torch.no_grad():\n",
        "    for i in range(5):\n",
        "        img, _ = valid_set[i]\n",
        "        img = img.unsqueeze(0).to(device)\n",
        "        reconstructed = model(img).cpu()\n",
        "        axes[0, i].imshow(img.squeeze().cpu(), cmap=\"Greys_r\")\n",
        "        axes[0, i].axis(\"off\")\n",
        "        axes[1, i].imshow(reconstructed.squeeze(), cmap=\"Greys_r\")\n",
        "        axes[1, i].axis(\"off\")\n",
        "axes[0, 0].set_title(\"Original\")\n",
        "axes[1, 0].set_title(\"Predicción\")\n",
        "plt.show()"
      ]
    }
  ],
  "metadata": {
    "accelerator": "GPU",
    "colab": {
      "gpuType": "T4",
      "provenance": []
    },
    "kernelspec": {
      "display_name": "Python 3",
      "name": "python3"
    },
    "language_info": {
      "codemirror_mode": {
        "name": "ipython",
        "version": 3
      },
      "file_extension": ".py",
      "mimetype": "text/x-python",
      "name": "python",
      "nbconvert_exporter": "python",
      "pygments_lexer": "ipython3",
      "version": "3.12.3"
    }
  },
  "nbformat": 4,
  "nbformat_minor": 0
}
