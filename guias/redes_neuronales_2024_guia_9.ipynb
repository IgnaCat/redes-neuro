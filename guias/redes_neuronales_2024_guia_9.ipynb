{
 "cells": [
  {
   "cell_type": "markdown",
   "metadata": {
    "id": "NRYEofSD0xoF"
   },
   "source": [
    "# Perceptron monocapa\n",
    "\n",
    "Un perceptrón monocapa está compuesto de una capa pasiva de entrada, y una sola capa activa que también sirve de capa de salida.\n",
    "\n",
    "El input de un perceptron determina el estado de las neuronas pasivas de la capa de entrada, $x$.\n",
    "Se considera, además, una neurona pasiva de estado fijo $x_{n_e}=-1$, para que haga las veces de umbral de activación.\n",
    "Ante una entrada $x$, la salida de la red neuronal viene dada por\n",
    "$$\n",
    "y_j(x)\n",
    "=\n",
    "g(h_{j}(x))\n",
    "$$\n",
    "donde\n",
    "$$\n",
    "h_j\n",
    "=\n",
    "%\\sum_{i=1}^{n_e}\n",
    "\\sum_i\n",
    "w_{ji}x_i\n",
    "$$\n",
    "para $j=1,...,n_s$, y $g$ es una función de activación.\n",
    "Por ejemplo, una ReLU, la cual viene dada por\n",
    "$g(h) = h$ si $h>0$ y $g(h)=0$ si $h\\leq 0$.\n",
    "\n",
    "Para entrenar la red, usamos como función costo el error cuadrático sobre el conjunto de entrenamiento $\\{e_m,s_m:m=1,...,M\\}$, al cuál lo expresamos como una función de $w$\n",
    "$$\n",
    "E(w)\n",
    "=\n",
    "\\frac{1}{2}\n",
    "%\\sum_{m=1}^M\n",
    "\\sum_{m}\n",
    "%\\sum_{j=1}^{n_s}\n",
    "\\sum_{j}\n",
    "(y_{jm}(w)-s_{mj})^2\n",
    "$$\n",
    "donde $s_{mj}$ es la salida deseada en la $j$-ésima neurona ante el $m$-ésimo ejemplo, $y_{mj}$ es la salida obtenida en la $j$-esima neurona ante el $m$-ésimo ejemplo, y $n_s$ es el número de neuronas de salida.\n",
    "Por otro lado,\n",
    "$$\n",
    "y_{jm}(w)\n",
    "=\n",
    "g(h_{jm}(w))\n",
    "$$\n",
    "donde\n",
    "$$\n",
    "h_{jm}(w)\n",
    "=\n",
    "\\sum_{i=0}^{n_e}\n",
    "w_{ji}e_{mi}\n",
    "$$\n",
    "Nos interesa calcular el gradiente de $E(w)$\n",
    "\\begin{eqnarray}\n",
    "\\frac{\\partial E}{\\partial w_{pq}}\n",
    "&=&\n",
    "%\\sum_{m=1}^M\n",
    "\\sum_m\n",
    "%\\sum_{j=1}^{n_s}\n",
    "\\sum_j\n",
    "(y_{jm}(w)-s_{mj})\n",
    "\\frac{\\partial y_{jm}}{\\partial w_{pq}}\n",
    "\\\\\n",
    "&=&\n",
    "%\\sum_{m=1}^M\n",
    "\\sum_m\n",
    "%\\sum_{j=1}^{n_s}\n",
    "\\sum_j\n",
    "(y_{jm}(w)-s_{mj})\n",
    "g'(h_{jm}(w))\n",
    "\\frac{\\partial h_{jm}}{\\partial w_{pq}}\n",
    "\\\\\n",
    "&=&\n",
    "%\\sum_{m=1}^M\n",
    "\\sum_m\n",
    "%\\sum_{j=1}^{n_s}\n",
    "\\sum_j\n",
    "(y_{jm}(w)-s_{mj})\n",
    "g'(h_{jm}(w))\n",
    "\\delta_{jp}\n",
    "e_{mq}\n",
    "\\\\\n",
    "&=&\n",
    "%\\sum_{m=1}^M\n",
    "\\sum_m\n",
    "(y_{pm}(w)-s_{mp})\n",
    "g'(h_{pm}(w))\n",
    "e_{mq}\n",
    "\\end{eqnarray}\n",
    "puesto que\n",
    "$$\n",
    "\\frac{\\partial h_{jm}}{\\partial w_{pq}}\n",
    "=\n",
    "%\\sum_{i=1}^{n_e}\n",
    "\\sum_i\n",
    "\\frac{w_{ji}}{w_{pq}}\n",
    "e_{mi}\n",
    "=\n",
    "%\\sum_{i=1}^{n_e}\n",
    "\\sum_i\n",
    "\\delta_{jp}\n",
    "\\delta_{iq}\n",
    "e_{mi}\n",
    "=\n",
    "\\delta_{jp}\n",
    "e_{mq}\n",
    "$$\n",
    "\n",
    "Recordar que, en el caso de una ReLU, $g'(h)=\\Theta(h)$, donde $\\Theta(h)=1$ si $h>0$ y $\\Theta(h)=0$ si $h\\leq 0$.\n",
    "\n",
    "Para actualizar los pesos sinápticos en la $(\\tau+1)$-ésima época de entrenamiento, utilice la regla\n",
    "$$\n",
    "w^{\\tau}_{ji} \\to w^{\\tau+1}_{ji} = w^{\\tau}_{ji} - \\eta \\frac{\\partial E}{\\partial w_{ji}}\n",
    "$$\n",
    "para todo $ji$.\n",
    "\n",
    "## **Ejercicio 1**\n",
    "\n",
    "Genere un conjunto de entrenamiento compuesto por $M$ puntos en $\\mathbb{R}^{n_e}$, distribuidos en $n_s$ nubes, con $m_c$ puntos en la nube $c$.\n",
    "Notar que $c=1,...,n_e$ nubes y, en total, se generarán $M=\\sum_c m_c$ puntos.\n",
    "\n",
    "Para generar las nubes:\n",
    "\n",
    "* genere aleatoriamente $n_s$ puntos en $\\mathbb{R}^{n_e}$ a los que llamaremos centros, sorteando los valores de las coordenadas a partir de una distribución normal, y\n",
    "\n",
    "* para cada centro $c$, genere $m_c$ puntos aleatorios alrededor del mismo, sumando sus coordenadas a números aleatorios generados con una Gaussiana de desviación estandard $\\sigma=0.1$.\n",
    "\n",
    "Las $n_e$ coordenadas del $m$-ésimo punto constituirán el vector de entrada del $m$-ésimo ejemplo.\n",
    "La nube a la que pertenece el $m$-ésimo punto determinará el vector de salida del $m$-ésimo ejemplo.\n",
    "Más precisamente, si el $m$-ésimo punto pertenence a la $c$-ésima nube, el vector de salida será el vector canónico $(0,0,...,1,...,0)$ de $n_s$ componentes con un único 1 en la $c$-esima posición.\n",
    "\n",
    "Concretamente\n",
    "\n",
    "1. Genere un conjunto de 8 puntos en $\\mathbb{R}^{n_e}$ con $n_e=2$, divididos en 3 nubes con $m_1=3$ en la primera nube, $m_2=2$ puntos en la segunda nube y $m_3=3$ puntos en la tercera nube. Utilice $\\sigma=0.1$ para indicar la dispersión de los puntos alrededor de cada nube.\n",
    "\n",
    "2. Grafique las nubes de puntos, utilizando un color distinto para cada una de ellas.\n",
    "\n",
    "**IMPORTANTE:** No olvide extender la entrada con una unidad extra de estado fijo $x_{n_e+1}=-1$ para que las sinapsis $w_{j,n_e+1}$ hagan las veces de umbrales $u_j$.\n",
    "\n",
    "## **Ejercicio 2**\n",
    "\n",
    "Implemente y entrene un **perceptrón monocapa** sobre el conjunto de entrenamiento generado en el Ejercicio 1.\n",
    "Utilice funciones de activación **sigmoideas** y, además, recuerde agregar las neuronas auxiliares que permiten imitar los umbrales de activación.\n",
    "\n",
    "Para entrenarlo, utilice una taza $\\eta=0.02$ y alrededor de 500.000 de épocas o más, según considere necesario.\n",
    "\n",
    "Luego, grafique nuevamente los puntos, pintando el relleno de los mismos con los colores de las nubes asociadas, y el borde de los mismos con el color correspondiente a la predicción.\n",
    "Grafique, además, las predicciones antes de entrar con el fin de corroborar que la red sin entregar clasifica erroneamente los ejemplos.\n",
    "\n",
    "## **Ejercicio 3**\n",
    "\n",
    "La compuerta XOR.\n",
    "\n",
    "El siguiente conjunto de 4 ejemplos:\n",
    "\n",
    "* $e_1 = (0,0,-1)$, $s_1=(1,0)$\n",
    "* $e_2 = (0,1,-1)$, $s_2=(0,1)$\n",
    "* $e_3 = (1,0,-1)$, $s_3=(0,1)$\n",
    "* $e_4 = (1,1,-1)$, $s_4=(1,0)$\n",
    "\n",
    "corresponde a la compuerta XOR.\n",
    "Utilice el **perceptrón monocapa** implementando para verificar que el mismo no es capáz de aprender este conjunto de ejemplos.\n",
    "\n",
    "## **Ejercicio 4**\n",
    "\n",
    "Repita los experimentos utilizando funciones de activación de tipo **ReLU**."
   ]
  },
  {
   "cell_type": "code",
   "execution_count": 1,
   "metadata": {},
   "outputs": [],
   "source": [
    "import numpy as np\n",
    "import matplotlib.pyplot as plt"
   ]
  },
  {
   "cell_type": "code",
   "execution_count": 4,
   "metadata": {
    "id": "UjbcNI0a4ac3"
   },
   "outputs": [
    {
     "name": "stdout",
     "output_type": "stream",
     "text": [
      "[[-1.86397308 -0.77363886]\n",
      " [-0.78714283 -0.58633126]\n",
      " [-0.56626145  0.62857099]]\n"
     ]
    },
    {
     "data": {
      "image/png": "[encoded data removed]",
      "text/plain": [
       "<Figure size 640x480 with 1 Axes>"
      ]
     },
     "metadata": {},
     "output_type": "display_data"
    }
   ],
   "source": [
    "# 1.1)\n",
    "def generate_examples(list_m, n_e, sigma=0.1):\n",
    "    centers = np.random.randn(len(list_m), n_e) # puntos centro de distrib normal de n_e dimensiones\n",
    "    print(centers)\n",
    "    n_s = len(list_m) # neuronas de salida\n",
    "    M = sum(list_m) # numero total de puntos, M en R^n_e\n",
    "    e = np.zeros((M, n_e + 1))\n",
    "    s = np.zeros((M, n_s))\n",
    "    m = 0\n",
    "    \n",
    "    for c in range(n_s):\n",
    "        for r in range(list_m[c]):\n",
    "            e[m, :n_e] = centers[c, :] + sigma * np.random.randn(n_e)\n",
    "            e[m, -1] = -1.0     # ultimo elemento de e para que sea el bias\t\n",
    "            s[m, c] = 1\n",
    "            m += 1\n",
    "\n",
    "    return e, s\n",
    "\n",
    "# 1.2)\n",
    "e, s = generate_examples([3, 2, 3], 2)\n",
    "\n",
    "plt.figure()\n",
    "\n",
    "colors = plt.cm.tab10.colors\n",
    "\n",
    "for m in range(e.shape[0]):\n",
    "    plt.scatter(e[m, 0], e[m, 1], c=[colors[np.argmax(s[m, :])]], label=\"\")   \n",
    "\n",
    "plt.xlabel(r'$e_{m, 1}$')\n",
    "plt.ylabel(r'$e_{m, 2}$')\n",
    "plt.show()"
   ]
  },
  {
   "cell_type": "code",
   "execution_count": 5,
   "metadata": {},
   "outputs": [],
   "source": [
    "# 2.1)\n",
    "\n",
    "def train(e, s, g, dg, num_epochs, eta=0.1, w=None):\n",
    "    M, n_e = e.shape\n",
    "    n_s = s.shape[1]\n",
    "    \n",
    "    # Crear pesos\n",
    "    if w is None:\n",
    "        w = 0.1 * np.random.randn(n_s, n_e)\n",
    "        w[:, -1] = -1.0\n",
    "    else:\n",
    "        assert w.shape == (n_s, n_e), \"La matriz de pesos debe coincidir con el tamaño de entrada.\"\n",
    "\n",
    "    # Entrenamiento\n",
    "    h = np.zeros(n_s)\n",
    "    for epoch in range(num_epochs):\n",
    "        # Calcular h_jm\n",
    "        for m in range(M):\n",
    "            h[:] = 0.0\n",
    "            for j in range(n_s):\n",
    "                h[j] += np.dot(w[j, :], e[m, :])\n",
    "\n",
    "            # Actualizar w\n",
    "            E = 0.0\n",
    "            for p in range(n_s):\n",
    "                A = g(h[p]) - s[m, p]\n",
    "                E += A ** 2\n",
    "                for q in range(n_e):\n",
    "                    w[p, q] -= eta * A * dg(h[p]) * e[m, q]\n",
    "\n",
    "        E *= 0.5\n",
    "        if epoch % (num_epochs // 10) == 0:\n",
    "            print(f\"Epoch {epoch} Error {E}\")\n",
    "\n",
    "    return w\n",
    "\n",
    "def eval(w, g, x):\n",
    "    n_s, n_e = w.shape\n",
    "    y = np.zeros(n_s)\n",
    "    \n",
    "    for j in range(n_s):\n",
    "        h = 0\n",
    "        for i in range(n_e):\n",
    "            h += w[j, i] * x[i]\n",
    "        y[j] = g(h)\n",
    "\n",
    "    return y"
   ]
  },
  {
   "cell_type": "code",
   "execution_count": 6,
   "metadata": {},
   "outputs": [],
   "source": [
    "def g(h): # ReLU\n",
    "    if h>0:\n",
    "        return h \n",
    "    else:\n",
    "        return 0\n",
    "\n",
    "def dg(h):\n",
    "    if h>0:\n",
    "        return 1\n",
    "    else:\n",
    "        return 0"
   ]
  },
  {
   "cell_type": "code",
   "execution_count": 7,
   "metadata": {},
   "outputs": [
    {
     "name": "stdout",
     "output_type": "stream",
     "text": [
      "Epoch 0 Error 0.5675763245916632\n",
      "Epoch 1000 Error 0.0022206660950392547\n",
      "Epoch 2000 Error 0.0022277074522630367\n",
      "Epoch 3000 Error 0.002231733263253042\n",
      "Epoch 4000 Error 0.0022340337439931963\n",
      "Epoch 5000 Error 0.002235347914328925\n",
      "Epoch 6000 Error 0.0022360985156344697\n",
      "Epoch 7000 Error 0.0022365271864682713\n",
      "Epoch 8000 Error 0.0022367719879197354\n",
      "Epoch 9000 Error 0.002236911782397121\n"
     ]
    }
   ],
   "source": [
    "w = train(e, s, g, dg, 10000, 0.02)"
   ]
  },
  {
   "cell_type": "code",
   "execution_count": null,
   "metadata": {},
   "outputs": [
    {
     "data": {
      "image/png": "[encoded data removed]",
      "text/plain": [
       "<Figure size 640x480 with 1 Axes>"
      ]
     },
     "metadata": {},
     "output_type": "display_data"
    }
   ],
   "source": [
    "plt.figure()\n",
    "\n",
    "colors = plt.cm.tab10.colors\n",
    "\n",
    "for m in range(e.shape[0]):\n",
    "    y = eval(w, g, e[m, :])\n",
    "    b = np.argmax(y)\n",
    "    #print(f'b:{b}')\n",
    "    c = np.argmax(s[m, :])\n",
    "    #print(f'c:{c}')\n",
    "   #plt.scatter(e[m, 0], e[m, 1], c=np.argmax(s[m, :]), label=\"\")\n",
    "    plt.scatter(e[m, 0], e[m, 1], c=[colors[np.argmax(s[m, :])]] )  \n",
    "    plt.scatter(e[m, 0], e[m, 1], edgecolor=f'C{b}', facecolor='none', s=200) # bordes \n",
    "\n",
    "plt.xlabel(r'$e_{m, 1}$')\n",
    "plt.ylabel(r'$e_{m, 2}$')\n",
    "plt.show()"
   ]
  },
  {
   "cell_type": "code",
   "execution_count": 10,
   "metadata": {},
   "outputs": [
    {
     "data": {
      "image/png": "[encoded data removed]",
      "text/plain": [
       "<Figure size 640x480 with 1 Axes>"
      ]
     },
     "metadata": {},
     "output_type": "display_data"
    }
   ],
   "source": [
    "# 3.1)\n",
    "\n",
    "M = 4\n",
    "n_e = 2\n",
    "n_s = 2\n",
    "e = np.zeros((M, n_e + 1))\n",
    "s = np.zeros((M, n_s))\n",
    "\n",
    "e[0,:] = [0, 0, -1]\n",
    "e[1,:] = [0, 1, -1]\n",
    "e[2,:] = [1, 0, -1]\n",
    "e[3,:] = [1, 1, -1]\n",
    "\n",
    "s[0,:] = [0, 1]\n",
    "s[1,:] = [1, 0]\n",
    "s[2,:] = [1, 0]\n",
    "s[3,:] = [0, 1]\n",
    "\n",
    "\n",
    "plt.figure()\n",
    "\n",
    "colors = plt.cm.tab10.colors\n",
    "\n",
    "for m in range(e.shape[0]):\n",
    "    plt.scatter(e[m, 0], e[m, 1], c=[colors[np.argmax(s[m, :])]], label=\"\")   \n",
    "\n",
    "plt.xlabel(r'$e_{m, 1}$')\n",
    "plt.ylabel(r'$e_{m, 2}$')\n",
    "plt.show()"
   ]
  },
  {
   "cell_type": "code",
   "execution_count": 11,
   "metadata": {},
   "outputs": [
    {
     "name": "stdout",
     "output_type": "stream",
     "text": [
      "Epoch 0 Error 0.44134470595488245\n",
      "Epoch 10000 Error 0.2603082049146187\n",
      "Epoch 20000 Error 0.2603082049146187\n",
      "Epoch 30000 Error 0.2603082049146187\n",
      "Epoch 40000 Error 0.2603082049146187\n",
      "Epoch 50000 Error 0.2603082049146187\n",
      "Epoch 60000 Error 0.2603082049146187\n",
      "Epoch 70000 Error 0.2603082049146187\n",
      "Epoch 80000 Error 0.2603082049146187\n",
      "Epoch 90000 Error 0.2603082049146187\n"
     ]
    }
   ],
   "source": [
    "w = train(e, s, g, dg, 100000, 0.02)"
   ]
  },
  {
   "cell_type": "code",
   "execution_count": 12,
   "metadata": {},
   "outputs": [
    {
     "data": {
      "image/png": "[encoded data removed]",
      "text/plain": [
       "<Figure size 640x480 with 1 Axes>"
      ]
     },
     "metadata": {},
     "output_type": "display_data"
    }
   ],
   "source": [
    "plt.figure()\n",
    "\n",
    "colors = plt.cm.tab10.colors\n",
    "\n",
    "for m in range(e.shape[0]):\n",
    "    y = eval(w, g, e[m, :])\n",
    "    b = np.argmax(y)\n",
    "    c = np.argmax(s[m, :])\n",
    "\n",
    "    plt.scatter(e[m, 0], e[m, 1], c=[colors[np.argmax(s[m, :])]] )   \n",
    "    plt.scatter(e[m, 0], e[m, 1], edgecolor=f'C{b}', facecolor='none', s=200)\n",
    "\n",
    "plt.xlabel(r'$e_{m, 1}$')\n",
    "plt.ylabel(r'$e_{m, 2}$')\n",
    "plt.show()"
   ]
  }
 ],
 "metadata": {
  "colab": {
   "provenance": []
  },
  "kernelspec": {
   "display_name": "Python 3",
   "name": "python3"
  },
  "language_info": {
   "codemirror_mode": {
    "name": "ipython",
    "version": 3
   },
   "file_extension": ".py",
   "mimetype": "text/x-python",
   "name": "python",
   "nbconvert_exporter": "python",
   "pygments_lexer": "ipython3",
   "version": "3.12.3"
  }
 },
 "nbformat": 4,
 "nbformat_minor": 0
}
